{
 "cells": [
  {
   "cell_type": "markdown",
   "metadata": {},
   "source": [
    "<h1>Neural Networks course</h1>\n",
    "<h2>Lab session 1: Python and NumPy fundamentals</h2>"
   ]
  },
  {
   "cell_type": "markdown",
   "metadata": {},
   "source": [
    "<h3>1a: some basic Python commands"
   ]
  },
  {
   "cell_type": "code",
   "execution_count": 4,
   "metadata": {},
   "outputs": [],
   "source": [
    "# Build a list\n",
    "a = [1, 2, 3]"
   ]
  },
  {
   "cell_type": "code",
   "execution_count": 5,
   "metadata": {},
   "outputs": [
    {
     "data": {
      "text/plain": [
       "3"
      ]
     },
     "execution_count": 5,
     "metadata": {},
     "output_type": "execute_result"
    }
   ],
   "source": [
    "# Get the length of the list\n",
    "len(a)"
   ]
  },
  {
   "cell_type": "code",
   "execution_count": 6,
   "metadata": {},
   "outputs": [
    {
     "data": {
      "text/plain": [
       "1"
      ]
     },
     "execution_count": 6,
     "metadata": {},
     "output_type": "execute_result"
    }
   ],
   "source": [
    "# Positional indexing\n",
    "a[0]"
   ]
  },
  {
   "cell_type": "code",
   "execution_count": 7,
   "metadata": {},
   "outputs": [],
   "source": [
    "# Make a dictionary\n",
    "d = {'firstname': 'Simone', 'lastname': \"X\"}"
   ]
  },
  {
   "cell_type": "code",
   "execution_count": 8,
   "metadata": {},
   "outputs": [
    {
     "data": {
      "text/plain": [
       "'Simone'"
      ]
     },
     "execution_count": 8,
     "metadata": {},
     "output_type": "execute_result"
    }
   ],
   "source": [
    "# Index the dictionary by key\n",
    "d['firstname']"
   ]
  },
  {
   "cell_type": "code",
   "execution_count": 11,
   "metadata": {},
   "outputs": [
    {
     "name": "stdout",
     "output_type": "stream",
     "text": [
      "1\n",
      "2\n",
      "3\n"
     ]
    }
   ],
   "source": [
    "# Loop over a list\n",
    "for x in a:\n",
    "    print(x)"
   ]
  },
  {
   "cell_type": "code",
   "execution_count": 12,
   "metadata": {},
   "outputs": [
    {
     "name": "stdout",
     "output_type": "stream",
     "text": [
      "Element 0  is  1\n",
      "Element 1  is  2\n",
      "Element 2  is  3\n"
     ]
    }
   ],
   "source": [
    "# Looping over two lists concurrently\n",
    "for i, x in enumerate(a):\n",
    "    print('Element', i, ' is ', x)"
   ]
  },
  {
   "cell_type": "code",
   "execution_count": 13,
   "metadata": {},
   "outputs": [
    {
     "name": "stdout",
     "output_type": "stream",
     "text": [
      "Simone\n",
      "X\n"
     ]
    }
   ],
   "source": [
    "# Loop over dictionary items\n",
    "for x in d.keys():\n",
    "    print(d[x])"
   ]
  },
  {
   "cell_type": "code",
   "execution_count": 16,
   "metadata": {},
   "outputs": [],
   "source": [
    "# List comprehension (with filtering)\n",
    "b = [2*x for x in a if x % 2 == 0]"
   ]
  },
  {
   "cell_type": "code",
   "execution_count": 17,
   "metadata": {},
   "outputs": [
    {
     "name": "stdout",
     "output_type": "stream",
     "text": [
      "[4]\n"
     ]
    }
   ],
   "source": [
    "print(b)"
   ]
  },
  {
   "cell_type": "code",
   "execution_count": 18,
   "metadata": {},
   "outputs": [
    {
     "name": "stdout",
     "output_type": "stream",
     "text": [
      "Variable   Type      Data/Info\n",
      "------------------------------\n",
      "a          list      n=3\n",
      "b          list      n=1\n",
      "d          dict      n=2\n",
      "i          int       2\n",
      "this       module    <module 'this' from 'C:\\\\<...>anaconda3\\\\lib\\\\this.py'>\n",
      "x          str       lastname\n"
     ]
    }
   ],
   "source": [
    "# An example of a 'magic' command\n",
    "%whos"
   ]
  },
  {
   "cell_type": "code",
   "execution_count": 19,
   "metadata": {},
   "outputs": [],
   "source": [
    "# List all 'magic' commands\n",
    "%magic"
   ]
  },
  {
   "cell_type": "code",
   "execution_count": 21,
   "metadata": {},
   "outputs": [
    {
     "name": "stdout",
     "output_type": "stream",
     "text": [
      " Volume in drive C is OS\n",
      " Volume Serial Number is 1A0F-4E92\n",
      "\n",
      " Directory of C:\\Users\\simon\\Downloads\\TmpNeuralNetworks\n",
      "\n",
      "16/10/2018  17:48    <DIR>          .\n",
      "16/10/2018  17:48    <DIR>          ..\n",
      "16/10/2018  17:30    <DIR>          .ipynb_checkpoints\n",
      "16/10/2018  17:48             3,789 Untitled.ipynb\n",
      "               1 File(s)          3,789 bytes\n",
      "               3 Dir(s)  425,192,136,704 bytes free\n"
     ]
    }
   ],
   "source": [
    "# Execute command on the underlying OS terminal\n",
    "!dir"
   ]
  },
  {
   "cell_type": "code",
   "execution_count": 22,
   "metadata": {},
   "outputs": [
    {
     "name": "stdout",
     "output_type": "stream",
     "text": [
      "Requirement already satisfied: tensorflow in c:\\users\\simon\\appdata\\local\\continuum\\anaconda3\\lib\\site-packages (1.9.0)\n",
      "Requirement already satisfied: wheel>=0.26 in c:\\users\\simon\\appdata\\local\\continuum\\anaconda3\\lib\\site-packages (from tensorflow) (0.31.1)\n",
      "Requirement already satisfied: six>=1.10.0 in c:\\users\\simon\\appdata\\local\\continuum\\anaconda3\\lib\\site-packages (from tensorflow) (1.11.0)\n",
      "Requirement already satisfied: grpcio>=1.8.6 in c:\\users\\simon\\appdata\\local\\continuum\\anaconda3\\lib\\site-packages (from tensorflow) (1.13.0)\n",
      "Requirement already satisfied: numpy>=1.13.3 in c:\\users\\simon\\appdata\\local\\continuum\\anaconda3\\lib\\site-packages (from tensorflow) (1.14.3)\n",
      "Requirement already satisfied: gast>=0.2.0 in c:\\users\\simon\\appdata\\local\\continuum\\anaconda3\\lib\\site-packages (from tensorflow) (0.2.0)\n",
      "Requirement already satisfied: absl-py>=0.1.6 in c:\\users\\simon\\appdata\\local\\continuum\\anaconda3\\lib\\site-packages (from tensorflow) (0.3.0)\n",
      "Requirement already satisfied: astor>=0.6.0 in c:\\users\\simon\\appdata\\local\\continuum\\anaconda3\\lib\\site-packages (from tensorflow) (0.7.1)\n",
      "Requirement already satisfied: tensorboard<1.10.0,>=1.9.0 in c:\\users\\simon\\appdata\\local\\continuum\\anaconda3\\lib\\site-packages (from tensorflow) (1.9.0)\n",
      "Requirement already satisfied: protobuf>=3.4.0 in c:\\users\\simon\\appdata\\local\\continuum\\anaconda3\\lib\\site-packages (from tensorflow) (3.6.0)\n",
      "Requirement already satisfied: setuptools<=39.1.0 in c:\\users\\simon\\appdata\\local\\continuum\\anaconda3\\lib\\site-packages (from tensorflow) (39.1.0)\n",
      "Requirement already satisfied: termcolor>=1.1.0 in c:\\users\\simon\\appdata\\local\\continuum\\anaconda3\\lib\\site-packages (from tensorflow) (1.1.0)\n",
      "Requirement already satisfied: werkzeug>=0.11.10 in c:\\users\\simon\\appdata\\local\\continuum\\anaconda3\\lib\\site-packages (from tensorboard<1.10.0,>=1.9.0->tensorflow) (0.14.1)\n",
      "Requirement already satisfied: markdown>=2.6.8 in c:\\users\\simon\\appdata\\local\\continuum\\anaconda3\\lib\\site-packages (from tensorboard<1.10.0,>=1.9.0->tensorflow) (2.6.11)\n"
     ]
    },
    {
     "name": "stderr",
     "output_type": "stream",
     "text": [
      "distributed 1.21.8 requires msgpack, which is not installed.\n"
     ]
    }
   ],
   "source": [
    "# Install packets (pip version)\n",
    "!pip install tensorflow"
   ]
  },
  {
   "cell_type": "markdown",
   "metadata": {},
   "source": [
    "### 1b: NumPy fundamentals"
   ]
  },
  {
   "cell_type": "code",
   "execution_count": 23,
   "metadata": {},
   "outputs": [],
   "source": [
    "import numpy as np"
   ]
  },
  {
   "cell_type": "code",
   "execution_count": 25,
   "metadata": {},
   "outputs": [],
   "source": [
    "# Make an array\n",
    "x = np.asarray([1,2,3])"
   ]
  },
  {
   "cell_type": "code",
   "execution_count": 27,
   "metadata": {},
   "outputs": [
    {
     "data": {
      "text/plain": [
       "dtype('int32')"
      ]
     },
     "execution_count": 27,
     "metadata": {},
     "output_type": "execute_result"
    }
   ],
   "source": [
    "# Arrays have a homogeneous type for their elements\n",
    "x.dtype"
   ]
  },
  {
   "cell_type": "code",
   "execution_count": 28,
   "metadata": {},
   "outputs": [
    {
     "data": {
      "text/plain": [
       "(3,)"
      ]
     },
     "execution_count": 28,
     "metadata": {},
     "output_type": "execute_result"
    }
   ],
   "source": [
    "# Shape is a tuple of elements\n",
    "x.shape"
   ]
  },
  {
   "cell_type": "code",
   "execution_count": 30,
   "metadata": {},
   "outputs": [],
   "source": [
    "# Make a random matrix with elements drawn from the uniform distribution\n",
    "x = np.random.rand(3, 2)"
   ]
  },
  {
   "cell_type": "code",
   "execution_count": 31,
   "metadata": {},
   "outputs": [
    {
     "data": {
      "text/plain": [
       "array([[0.72910605, 0.57618307],\n",
       "       [0.68141621, 0.95706948],\n",
       "       [0.51366116, 0.40086853]])"
      ]
     },
     "execution_count": 31,
     "metadata": {},
     "output_type": "execute_result"
    }
   ],
   "source": [
    "x"
   ]
  },
  {
   "cell_type": "code",
   "execution_count": 32,
   "metadata": {},
   "outputs": [
    {
     "data": {
      "text/plain": [
       "array([0.72910605, 0.57618307])"
      ]
     },
     "execution_count": 32,
     "metadata": {},
     "output_type": "execute_result"
    }
   ],
   "source": [
    "x[0]"
   ]
  },
  {
   "cell_type": "code",
   "execution_count": 33,
   "metadata": {},
   "outputs": [
    {
     "data": {
      "text/plain": [
       "0.576183072212184"
      ]
     },
     "execution_count": 33,
     "metadata": {},
     "output_type": "execute_result"
    }
   ],
   "source": [
    "x[0, 1]"
   ]
  },
  {
   "cell_type": "code",
   "execution_count": 34,
   "metadata": {},
   "outputs": [
    {
     "data": {
      "text/plain": [
       "array([0.72910605, 0.68141621])"
      ]
     },
     "execution_count": 34,
     "metadata": {},
     "output_type": "execute_result"
    }
   ],
   "source": [
    "x[0:2, 0]"
   ]
  },
  {
   "cell_type": "code",
   "execution_count": 36,
   "metadata": {},
   "outputs": [
    {
     "data": {
      "text/plain": [
       "array([[0.51366116, 0.40086853]])"
      ]
     },
     "execution_count": 36,
     "metadata": {},
     "output_type": "execute_result"
    }
   ],
   "source": [
    "x[2:]"
   ]
  },
  {
   "cell_type": "code",
   "execution_count": 37,
   "metadata": {},
   "outputs": [
    {
     "data": {
      "text/plain": [
       "array([[0.68141621, 0.95706948],\n",
       "       [0.51366116, 0.40086853]])"
      ]
     },
     "execution_count": 37,
     "metadata": {},
     "output_type": "execute_result"
    }
   ],
   "source": [
    "x[-2:]"
   ]
  },
  {
   "cell_type": "code",
   "execution_count": 38,
   "metadata": {},
   "outputs": [],
   "source": [
    "A = np.ones((3, 2))\n",
    "B = A\n",
    "# B = A.copy() # Correct version if you want a copy of the array\n",
    "B[0, 1] = 0"
   ]
  },
  {
   "cell_type": "code",
   "execution_count": 42,
   "metadata": {},
   "outputs": [
    {
     "name": "stdout",
     "output_type": "stream",
     "text": [
      "[[0. 1.]\n",
      " [1. 1.]\n",
      " [1. 1.]]\n"
     ]
    }
   ],
   "source": [
    "print(A)"
   ]
  },
  {
   "cell_type": "code",
   "execution_count": 43,
   "metadata": {},
   "outputs": [
    {
     "data": {
      "text/plain": [
       "5.0"
      ]
     },
     "execution_count": 43,
     "metadata": {},
     "output_type": "execute_result"
    }
   ],
   "source": [
    "A.sum()"
   ]
  },
  {
   "cell_type": "code",
   "execution_count": 45,
   "metadata": {},
   "outputs": [
    {
     "data": {
      "text/plain": [
       "array([2., 3.])"
      ]
     },
     "execution_count": 45,
     "metadata": {},
     "output_type": "execute_result"
    }
   ],
   "source": [
    "A.sum(axis=0)"
   ]
  },
  {
   "cell_type": "code",
   "execution_count": 46,
   "metadata": {},
   "outputs": [
    {
     "data": {
      "text/plain": [
       "array([0.5, 0. , 0. ])"
      ]
     },
     "execution_count": 46,
     "metadata": {},
     "output_type": "execute_result"
    }
   ],
   "source": [
    "A.std(axis=1)"
   ]
  },
  {
   "cell_type": "code",
   "execution_count": 52,
   "metadata": {},
   "outputs": [],
   "source": [
    "A = np.random.rand(1, 2)\n",
    "B = np.random.rand(3, 1)"
   ]
  },
  {
   "cell_type": "code",
   "execution_count": 53,
   "metadata": {},
   "outputs": [
    {
     "data": {
      "text/plain": [
       "array([[0.17326495, 0.88726204],\n",
       "       [0.14164601, 0.72534652],\n",
       "       [0.12940785, 0.66267687]])"
      ]
     },
     "execution_count": 53,
     "metadata": {},
     "output_type": "execute_result"
    }
   ],
   "source": [
    "# Broadcasting!\n",
    "A*B"
   ]
  }
 ],
 "metadata": {
  "kernelspec": {
   "display_name": "Python 3",
   "language": "python",
   "name": "python3"
  },
  "language_info": {
   "codemirror_mode": {
    "name": "ipython",
    "version": 3
   },
   "file_extension": ".py",
   "mimetype": "text/x-python",
   "name": "python",
   "nbconvert_exporter": "python",
   "pygments_lexer": "ipython3",
   "version": "3.6.5"
  }
 },
 "nbformat": 4,
 "nbformat_minor": 2
}
