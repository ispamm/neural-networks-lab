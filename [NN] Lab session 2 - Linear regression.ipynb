{
 "cells": [
  {
   "cell_type": "markdown",
   "metadata": {
    "slideshow": {
     "slide_type": "slide"
    }
   },
   "source": [
    "# Neural Networks\n",
    "## Lab session 2: Linear regression and Bayesian LR"
   ]
  },
  {
   "cell_type": "code",
   "execution_count": 3,
   "metadata": {
    "slideshow": {
     "slide_type": "slide"
    }
   },
   "outputs": [
    {
     "data": {
      "text/plain": [
       "0.3745401188473625"
      ]
     },
     "execution_count": 3,
     "metadata": {},
     "output_type": "execute_result"
    }
   ],
   "source": [
    "import numpy as np\n",
    "np.random.seed(42)\n",
    "np.random.rand()"
   ]
  },
  {
   "cell_type": "markdown",
   "metadata": {
    "slideshow": {
     "slide_type": "slide"
    }
   },
   "source": [
    "### Case 1: linear regression"
   ]
  },
  {
   "cell_type": "markdown",
   "metadata": {
    "slideshow": {
     "slide_type": "slide"
    }
   },
   "source": [
    "We generate a set of data from a one-dimensional line:\n",
    "\n",
    "$$y_i = wx_i + b + \\varepsilon_i \\;,\\;\\; i=1,\\ldots,N$$\n",
    "\n",
    "where noise is drawn from a Gaussian distribution:\n",
    "\n",
    "$$\\varepsilon_i \\sim \\mathcal{N}(0, \\sigma^2)$$"
   ]
  },
  {
   "cell_type": "code",
   "execution_count": 67,
   "metadata": {
    "slideshow": {
     "slide_type": "slide"
    }
   },
   "outputs": [],
   "source": [
    "# General parameters for the task\n",
    "N = 25      # Number of points\n",
    "w = 0.4     # Slope\n",
    "b = 0.2     # Intercept\n",
    "sigma = 0.1 # Variance of the noise"
   ]
  },
  {
   "cell_type": "code",
   "execution_count": 68,
   "metadata": {
    "slideshow": {
     "slide_type": "slide"
    }
   },
   "outputs": [],
   "source": [
    "X = np.random.rand(N) * 10.0\n",
    "y = w * X + b + np.random.randn(N)*np.sqrt(sigma)"
   ]
  },
  {
   "cell_type": "code",
   "execution_count": 69,
   "metadata": {
    "slideshow": {
     "slide_type": "slide"
    }
   },
   "outputs": [],
   "source": [
    "# Magic command for ensuring the plots are rendered in the notebook, even without plt.show()\n",
    "%matplotlib inline"
   ]
  },
  {
   "cell_type": "code",
   "execution_count": 70,
   "metadata": {},
   "outputs": [
    {
     "data": {
      "text/plain": [
       "[<matplotlib.lines.Line2D at 0x23233b48b00>]"
      ]
     },
     "execution_count": 70,
     "metadata": {},
     "output_type": "execute_result"
    },
    {
     "data": {
      "image/png": "[encoded data removed]",
      "text/plain": [
       "<Figure size 432x288 with 1 Axes>"
      ]
     },
     "metadata": {},
     "output_type": "display_data"
    }
   ],
   "source": [
    "import matplotlib.pyplot as plt\n",
    "plt.plot(X, y, 'o')\n",
    "xrange = np.arange(0, 10, 0.01)\n",
    "plt.plot(xrange, xrange * w + b, 'r--')"
   ]
  },
  {
   "cell_type": "markdown",
   "metadata": {
    "slideshow": {
     "slide_type": "slide"
    }
   },
   "source": [
    "For a simplified notation, we can define $\\mathbf{x} = \\left[x \\; 1\\right]^T$ and:\n",
    "\n",
    "$$ f(\\mathbf{x}) = \\mathbf{w}^T\\mathbf{x}\\,.$$"
   ]
  },
  {
   "cell_type": "code",
   "execution_count": 71,
   "metadata": {},
   "outputs": [],
   "source": [
    "X = np.hstack((X.reshape(N, 1), np.ones((N, 1))))"
   ]
  },
  {
   "cell_type": "code",
   "execution_count": 72,
   "metadata": {},
   "outputs": [
    {
     "data": {
      "text/plain": [
       "array([[2.43989643, 1.        ],\n",
       "       [9.73010555, 1.        ],\n",
       "       [3.93097725, 1.        ],\n",
       "       [8.92046555, 1.        ],\n",
       "       [6.31138626, 1.        ],\n",
       "       [7.94811304, 1.        ],\n",
       "       [5.02637093, 1.        ],\n",
       "       [5.76903885, 1.        ],\n",
       "       [4.92517694, 1.        ],\n",
       "       [1.95242988, 1.        ],\n",
       "       [7.22452115, 1.        ],\n",
       "       [2.80772362, 1.        ],\n",
       "       [0.24315966, 1.        ],\n",
       "       [6.45472296, 1.        ],\n",
       "       [1.77110679, 1.        ],\n",
       "       [9.40458584, 1.        ],\n",
       "       [9.53928577, 1.        ],\n",
       "       [9.1486439 , 1.        ],\n",
       "       [3.701587  , 1.        ],\n",
       "       [0.15456617, 1.        ],\n",
       "       [9.28318563, 1.        ],\n",
       "       [4.28184148, 1.        ],\n",
       "       [9.66654819, 1.        ],\n",
       "       [9.63619977, 1.        ],\n",
       "       [8.53009455, 1.        ]])"
      ]
     },
     "execution_count": 72,
     "metadata": {},
     "output_type": "execute_result"
    }
   ],
   "source": [
    "X"
   ]
  },
  {
   "cell_type": "markdown",
   "metadata": {
    "slideshow": {
     "slide_type": "slide"
    }
   },
   "source": [
    "In classical (least squares) linear regression, we find the optimal $\\mathbf{w}$ by minimizing:\n",
    "\n",
    "$$\\mathbf{w}^* = \\min_{\\mathbf{w}} \\sum_{i=1}^N \\left(y_i - \\mathbf{w}^T\\mathbf{x}\\right)^2 \\,.$$\n",
    "\n",
    "More compactly, grouping everything by row in $\\mathbf{X}$ and $\\mathbf{y}$:\n",
    "\n",
    "$$\\min_{\\mathbf{w}} \\lVert \\mathbf{y} - \\mathbf{X}\\mathbf{w} \\rVert^2 \\,.$$\n",
    "\n",
    "Setting the gradient to zero and solving:\n",
    "\n",
    "$$\\mathbf{w}^* = \\left(\\mathbf{X}^T\\mathbf{X}\\right)^{-1}\\mathbf{X}^T\\mathbf{y} \\,.$$"
   ]
  },
  {
   "cell_type": "code",
   "execution_count": 73,
   "metadata": {
    "slideshow": {
     "slide_type": "slide"
    }
   },
   "outputs": [],
   "source": [
    "wopt = np.linalg.inv(X.T.dot(X)).dot(X.T.dot(y))\n",
    "\n",
    "# wopt = np.linalg.pinv(X).dot(y)"
   ]
  },
  {
   "cell_type": "code",
   "execution_count": 74,
   "metadata": {
    "slideshow": {
     "slide_type": "slide"
    }
   },
   "outputs": [
    {
     "data": {
      "text/plain": [
       "[<matplotlib.lines.Line2D at 0x23233acd710>]"
      ]
     },
     "execution_count": 74,
     "metadata": {},
     "output_type": "execute_result"
    },
    {
     "data": {
      "image/png": "[encoded data removed]",
      "text/plain": [
       "<Figure size 432x288 with 1 Axes>"
      ]
     },
     "metadata": {},
     "output_type": "display_data"
    }
   ],
   "source": [
    "plt.plot(X[:, 0], y, 'o')\n",
    "plt.plot(xrange, xrange * wopt[0] + wopt[1])"
   ]
  },
  {
   "cell_type": "markdown",
   "metadata": {
    "slideshow": {
     "slide_type": "slide"
    }
   },
   "source": [
    "### Case 2: polynomial regression"
   ]
  },
  {
   "cell_type": "markdown",
   "metadata": {
    "slideshow": {
     "slide_type": "slide"
    }
   },
   "source": [
    "This is similar to before, but points are drawn from a nonlinear function:\n",
    "\n",
    "$$y_i = \\sin\\left(\\frac{x_i}{4}\\right) + \\varepsilon_i$$"
   ]
  },
  {
   "cell_type": "code",
   "execution_count": 75,
   "metadata": {},
   "outputs": [],
   "source": [
    "def nonlinfcn(x):\n",
    "    return np.sin(x/4.0)"
   ]
  },
  {
   "cell_type": "code",
   "execution_count": 76,
   "metadata": {},
   "outputs": [],
   "source": [
    "X = np.random.rand(N) * 10\n",
    "y = nonlinfcn(X) + np.random.randn(N)*np.sqrt(sigma)"
   ]
  },
  {
   "cell_type": "code",
   "execution_count": 77,
   "metadata": {
    "slideshow": {
     "slide_type": "slide"
    }
   },
   "outputs": [
    {
     "data": {
      "text/plain": [
       "[<matplotlib.lines.Line2D at 0x23230e96d68>]"
      ]
     },
     "execution_count": 77,
     "metadata": {},
     "output_type": "execute_result"
    },
    {
     "data": {
      "image/png": "[encoded data removed]",
      "text/plain": [
       "<Figure size 432x288 with 1 Axes>"
      ]
     },
     "metadata": {},
     "output_type": "display_data"
    }
   ],
   "source": [
    "plt.plot(X, y, 'o')\n",
    "plt.plot(xrange, nonlinfcn(xrange))"
   ]
  },
  {
   "cell_type": "markdown",
   "metadata": {
    "slideshow": {
     "slide_type": "slide"
    }
   },
   "source": [
    "We approximate the function via polynomial regression of order $P$:\n",
    "\n",
    "$$f(x) = \\sum_{p=0}^P w_p x^p \\,. $$\n",
    "\n",
    "More compactly:\n",
    "\n",
    "$$f(x) = \\mathbf{w}^T\\mathbf{h}(x) \\,,$$\n",
    "\n",
    "where:\n",
    "\n",
    "$$\\mathbf{h}(x) = \\left[x^0, \\ldots, x^P \\right]^T \\,.$$"
   ]
  },
  {
   "cell_type": "code",
   "execution_count": 78,
   "metadata": {
    "slideshow": {
     "slide_type": "slide"
    }
   },
   "outputs": [
    {
     "data": {
      "text/plain": [
       "array([[1.00000000e+00, 8.90005342e-01, 7.92109508e-01, 7.04981694e-01,\n",
       "        6.27437473e-01, 5.58422703e-01, 4.96999189e-01, 4.42331933e-01,\n",
       "        3.93677783e-01, 3.50375330e-01, 2.21149965e+00],\n",
       "       [1.00000000e+00, 3.37995157e-01, 1.14240726e-01, 3.86128121e-02,\n",
       "        1.30509435e-02, 4.41115569e-03, 1.49094926e-03, 5.03933629e-04,\n",
       "        1.70327126e-04, 5.75697437e-05, 1.37995687e-04]])"
      ]
     },
     "execution_count": 78,
     "metadata": {},
     "output_type": "execute_result"
    }
   ],
   "source": [
    "P = 10\n",
    "def power_exp(x):\n",
    "    H = np.hstack([x.reshape(-1,1) ** i for i in range(0, P+1)])\n",
    "    H = H / (10**np.arange(0, P+1)).reshape(1, -1)\n",
    "    return H\n",
    "\n",
    "power_exp(X[0:2])"
   ]
  },
  {
   "cell_type": "code",
   "execution_count": 79,
   "metadata": {
    "slideshow": {
     "slide_type": "slide"
    }
   },
   "outputs": [],
   "source": [
    "H = power_exp(X)\n",
    "wopt = np.linalg.solve(H.T.dot(H), H.T.dot(y))"
   ]
  },
  {
   "cell_type": "code",
   "execution_count": 80,
   "metadata": {
    "slideshow": {
     "slide_type": "slide"
    }
   },
   "outputs": [
    {
     "data": {
      "text/plain": [
       "(-2, 2)"
      ]
     },
     "execution_count": 80,
     "metadata": {},
     "output_type": "execute_result"
    },
    {
     "data": {
      "image/png": "[encoded data removed]",
      "text/plain": [
       "<Figure size 432x288 with 1 Axes>"
      ]
     },
     "metadata": {},
     "output_type": "display_data"
    }
   ],
   "source": [
    "plt.plot(X, y, 'o')\n",
    "plt.plot(xrange, power_exp(xrange).dot(wopt))\n",
    "plt.ylim(-2, 2)"
   ]
  },
  {
   "cell_type": "markdown",
   "metadata": {
    "slideshow": {
     "slide_type": "slide"
    }
   },
   "source": [
    "We can improve the result by adding some regularization to the optimization problem:\n",
    "\n",
    "$$\\min_{\\mathbf{w}} \\lVert \\mathbf{y} - \\mathbf{X}\\mathbf{w} \\rVert^2 + C\\lVert\\mathbf{w}\\rVert^2\\,.$$\n",
    "\n",
    "Setting the gradient to zero and solving:\n",
    "\n",
    "$$\\mathbf{w}^* = \\left(\\mathbf{X}^T\\mathbf{X} + C\\mathbf{I}\\right)^{-1}\\mathbf{X}^T\\mathbf{y} \\,.$$"
   ]
  },
  {
   "cell_type": "code",
   "execution_count": 81,
   "metadata": {
    "slideshow": {
     "slide_type": "slide"
    }
   },
   "outputs": [],
   "source": [
    "# Value of the regularization parameter\n",
    "C = 0.001"
   ]
  },
  {
   "cell_type": "code",
   "execution_count": 82,
   "metadata": {},
   "outputs": [],
   "source": [
    "wopt = np.linalg.inv(H.T.dot(H) + C*np.eye(P+1)).dot(H.T.dot(y))"
   ]
  },
  {
   "cell_type": "code",
   "execution_count": 83,
   "metadata": {
    "slideshow": {
     "slide_type": "slide"
    }
   },
   "outputs": [
    {
     "data": {
      "text/plain": [
       "(-2, 2)"
      ]
     },
     "execution_count": 83,
     "metadata": {},
     "output_type": "execute_result"
    },
    {
     "data": {
      "image/png": "[encoded data removed]",
      "text/plain": [
       "<Figure size 432x288 with 1 Axes>"
      ]
     },
     "metadata": {},
     "output_type": "display_data"
    }
   ],
   "source": [
    "plt.plot(X, y, 'o')\n",
    "plt.plot(xrange, power_exp(xrange).dot(wopt))\n",
    "plt.ylim(-2, 2)"
   ]
  }
 ],
 "metadata": {
  "celltoolbar": "Slideshow",
  "kernelspec": {
   "display_name": "Python 3",
   "language": "python",
   "name": "python3"
  },
  "language_info": {
   "codemirror_mode": {
    "name": "ipython",
    "version": 3
   },
   "file_extension": ".py",
   "mimetype": "text/x-python",
   "name": "python",
   "nbconvert_exporter": "python",
   "pygments_lexer": "ipython3",
   "version": "3.6.5"
  }
 },
 "nbformat": 4,
 "nbformat_minor": 2
}
